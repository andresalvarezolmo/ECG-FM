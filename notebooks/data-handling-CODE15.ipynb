{
 "cells": [
  {
   "cell_type": "code",
   "execution_count": 2,
   "id": "4",
   "metadata": {},
   "outputs": [
    {
     "data": {
      "text/plain": [
       "'/home/aa2650/playground/fairseq-signals'"
      ]
     },
     "execution_count": 2,
     "metadata": {},
     "output_type": "execute_result"
    }
   ],
   "source": [
    "import pandas as pd\n",
    "import os\n",
    "\n",
    "root = '/home/aa2650/datasets/code_15'\n",
    "fairseq_signals_root = '/home/aa2650/playground/fairseq-signals'\n",
    "fairseq_signals_root = fairseq_signals_root.rstrip('/')\n",
    "fairseq_signals_root"
   ]
  },
  {
   "cell_type": "markdown",
   "id": "8",
   "metadata": {},
   "source": [
    "### Update manifest"
   ]
  },
  {
   "cell_type": "markdown",
   "id": "9",
   "metadata": {},
   "source": [
    "The segmented split must be saved with absolute file paths, so we will update the current relative file paths accordingly."
   ]
  },
  {
   "cell_type": "code",
   "execution_count": null,
   "id": "10",
   "metadata": {},
   "outputs": [],
   "source": [
    "# ONLY NEEDS TO BE RAN ONCE\n",
    "\n",
    "# CODE_15_ROOT=\"/home/aa2650/playground/ECG-FM/experiment\"\n",
    "\n",
    "# segmenting_cmd = f\"\"\"\n",
    "# cd /home/aa2650/playground/fairseq-signals/scripts/preprocess/ecg\n",
    "\n",
    "# python code_15_signals.py \\\n",
    "#     --processed_root \"/home/aa2650/datasets/code_15/\" \\\n",
    "#     --raw_root \"/home/aa2650/datasets/code_15/\" \\\n",
    "#     --manifest_file \"/home/aa2650/datasets/code_15/manifest.csv\"\n",
    "# \"\"\"\n",
    "\n",
    "# os.system(segmenting_cmd)\n",
    "\n",
    "# labels_cmd = f\"\"\"\n",
    "# cd /home/aa2650/playground/fairseq-signals/scripts/preprocess/ecg\n",
    "\n",
    "# python code_15_labels.py \\\n",
    "#     --processed_root \"/home/aa2650/datasets/code_15/\" \\\n",
    "#     --labels_path \"/home/aa2650/datasets/code_15/labels.csv\"\n",
    "# \"\"\"\n",
    "\n",
    "# os.system(labels_cmd)"
   ]
  },
  {
   "cell_type": "code",
   "execution_count": null,
   "id": "a55776c1",
   "metadata": {},
   "outputs": [],
   "source": [
    "train = 80\n",
    "validation = 10\n",
    "test = 10\n",
    "data_split = f\"{train}-{validation}-{test}\""
   ]
  },
  {
   "cell_type": "code",
   "execution_count": null,
   "id": "318796da",
   "metadata": {},
   "outputs": [
    {
     "name": "stderr",
     "output_type": "stream",
     "text": [
      "/home/aa2650/playground/ECG-FM/virtualenv/lib/python3.9/site-packages/matplotlib/projections/__init__.py:63: UserWarning: Unable to import Axes3D. This may be due to multiple versions of Matplotlib being installed (e.g. as a system package and as a pip package). As a result, the 3D projection is not available.\n",
      "  warnings.warn(\"Unable to import Axes3D. This may be due to multiple versions of \"\n"
     ]
    },
    {
     "data": {
      "text/plain": [
       "0"
      ]
     },
     "execution_count": 35,
     "metadata": {},
     "output_type": "execute_result"
    }
   ],
   "source": [
    "# Generates segmented split and meta\n",
    "\n",
    "split_cmd = f\"\"\"\n",
    "cd /home/aa2650/playground/fairseq-signals/scripts/preprocess\n",
    "\n",
    "python splits.py \\\n",
    "    --strategy \"random\" \\\n",
    "    --processed_root \"/home/aa2650/datasets/code_15/\" \\\n",
    "    --meta_file \"/home/aa2650/datasets/code_15/meta.csv\" \\\n",
    "    --segmented_file \"/home/aa2650/datasets/code_15/segmented.csv\" \\\n",
    "    --fractions \"0.80,0.10,0.10\" \\\n",
    "    --save_files_suffix \"{data_split}\" \\\n",
    "    --split_labels \"train,valid,test\" \\\n",
    "    \n",
    "\"\"\"\n",
    "\n",
    "os.system(split_cmd)"
   ]
  },
  {
   "cell_type": "markdown",
   "id": "14",
   "metadata": {},
   "source": [
    "Run the follow commands togenerate the `test.tsv` file used for inference."
   ]
  },
  {
   "cell_type": "code",
   "execution_count": 36,
   "id": "79e03959",
   "metadata": {},
   "outputs": [
    {
     "name": "stdout",
     "output_type": "stream",
     "text": [
      "home/aa2650/datasets/code_15/manifests/1-1-98\n"
     ]
    }
   ],
   "source": [
    "print(f\"home/aa2650/datasets/code_15/manifests/{data_split}\")"
   ]
  },
  {
   "cell_type": "code",
   "execution_count": 37,
   "id": "15",
   "metadata": {},
   "outputs": [
    {
     "data": {
      "text/plain": [
       "0"
      ]
     },
     "execution_count": 37,
     "metadata": {},
     "output_type": "execute_result"
    }
   ],
   "source": [
    "# Generates tsv files\n",
    "\n",
    "#CREATE FOLDER FIRST AT home/aa2650/datasets/code_15/MANIFESTS\n",
    "os.makedirs(f\"/home/aa2650/datasets/code_15/manifests/{data_split}\", exist_ok=True)\n",
    "\n",
    "\n",
    "generate_test_tsv = f\"\"\"\n",
    "cd {fairseq_signals_root}/scripts/preprocess && \\\n",
    "python manifests.py \\\n",
    "    --split_file_paths \"/home/aa2650/datasets/code_15/segmented{data_split}.csv\" \\\n",
    "    --save_dir \"/home/aa2650/datasets/code_15/manifests/{data_split}\"\n",
    "\"\"\"\n",
    "os.system(generate_test_tsv)\n"
   ]
  }
 ],
 "metadata": {
  "kernelspec": {
   "display_name": "virtualenv",
   "language": "python",
   "name": "python3"
  },
  "language_info": {
   "codemirror_mode": {
    "name": "ipython",
    "version": 3
   },
   "file_extension": ".py",
   "mimetype": "text/x-python",
   "name": "python",
   "nbconvert_exporter": "python",
   "pygments_lexer": "ipython3",
   "version": "3.9.21"
  }
 },
 "nbformat": 4,
 "nbformat_minor": 5
}
